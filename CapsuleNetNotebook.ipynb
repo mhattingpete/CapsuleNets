{
 "cells": [
  {
   "cell_type": "markdown",
   "metadata": {},
   "source": [
    "# Capsule Networks"
   ]
  },
  {
   "cell_type": "markdown",
   "metadata": {},
   "source": [
    "## Imports"
   ]
  },
  {
   "cell_type": "code",
   "execution_count": 1,
   "metadata": {},
   "outputs": [],
   "source": [
    "from torch.autograd import Variable\n",
    "from torch import optim\n",
    "from tqdm import tqdm\n",
    "import torch\n",
    "from torchvision import datasets, transforms\n",
    "\n",
    "from models import CapsuleNet\n",
    "from utils import train,test,augmentation"
   ]
  },
  {
   "cell_type": "markdown",
   "metadata": {},
   "source": [
    "## Load datasets"
   ]
  },
  {
   "cell_type": "code",
   "execution_count": 2,
   "metadata": {},
   "outputs": [],
   "source": [
    "device = torch.device(\"cuda\" if torch.cuda.is_available() else \"cpu\")\n",
    "\n",
    "# Training dataset\n",
    "train_loader = torch.utils.data.DataLoader(datasets.MNIST(root='.',train=True,transform=transforms.Compose([\n",
    "    transforms.ToTensor(),augmentation\n",
    "]),download=True),batch_size=64,shuffle=True)\n",
    "# Test dataset\n",
    "test_loader = torch.utils.data.DataLoader(datasets.MNIST(root='.',train=False,transform=transforms.Compose([\n",
    "    transforms.ToTensor(),augmentation\n",
    "])),batch_size=64,shuffle=True)"
   ]
  },
  {
   "cell_type": "markdown",
   "metadata": {},
   "source": [
    "## Load model and optimizer"
   ]
  },
  {
   "cell_type": "code",
   "execution_count": 3,
   "metadata": {},
   "outputs": [
    {
     "name": "stdout",
     "output_type": "stream",
     "text": [
      "# parameters: 8215568\n"
     ]
    }
   ],
   "source": [
    "model = CapsuleNet(input_size=1,output_size=10)\n",
    "\n",
    "optimizer = optim.Adam(model.parameters())\n",
    "\n",
    "print(\"# parameters:\", sum(param.numel() for param in model.parameters()))"
   ]
  },
  {
   "cell_type": "markdown",
   "metadata": {},
   "source": [
    "## Train model"
   ]
  },
  {
   "cell_type": "code",
   "execution_count": 4,
   "metadata": {
    "scrolled": false
   },
   "outputs": [
    {
     "name": "stdout",
     "output_type": "stream",
     "text": [
      "Train Epoch: 1 [0/60000 (0%)]\tLoss: 10.354243\n",
      "Train Epoch: 1 [640/60000 (1%)]\tLoss: 10.248751\n",
      "Train Epoch: 1 [1280/60000 (2%)]\tLoss: 10.295191\n",
      "Train Epoch: 1 [1920/60000 (3%)]\tLoss: 10.177507\n",
      "Train Epoch: 1 [2560/60000 (4%)]\tLoss: 10.246443\n",
      "Train Epoch: 1 [3200/60000 (5%)]\tLoss: 10.321146\n",
      "Train Epoch: 1 [3840/60000 (6%)]\tLoss: 10.245161\n",
      "Train Epoch: 1 [4480/60000 (7%)]\tLoss: 10.258331\n",
      "Train Epoch: 1 [5120/60000 (9%)]\tLoss: 10.275732\n",
      "Train Epoch: 1 [5760/60000 (10%)]\tLoss: 10.054891\n",
      "Train Epoch: 1 [6400/60000 (11%)]\tLoss: 10.089885\n",
      "Train Epoch: 1 [7040/60000 (12%)]\tLoss: 9.912764\n",
      "Train Epoch: 1 [7680/60000 (13%)]\tLoss: 9.466619\n",
      "Train Epoch: 1 [8320/60000 (14%)]\tLoss: 9.296096\n",
      "Train Epoch: 1 [8960/60000 (15%)]\tLoss: 8.714652\n",
      "Train Epoch: 1 [9600/60000 (16%)]\tLoss: 8.598994\n",
      "Train Epoch: 1 [10240/60000 (17%)]\tLoss: 8.453252\n",
      "Train Epoch: 1 [10880/60000 (18%)]\tLoss: 8.341660\n",
      "Train Epoch: 1 [11520/60000 (19%)]\tLoss: 8.390460\n",
      "Train Epoch: 1 [12160/60000 (20%)]\tLoss: 8.092537\n",
      "Train Epoch: 1 [12800/60000 (21%)]\tLoss: 7.999618\n",
      "Train Epoch: 1 [13440/60000 (22%)]\tLoss: 8.151186\n",
      "Train Epoch: 1 [14080/60000 (23%)]\tLoss: 7.957620\n",
      "Train Epoch: 1 [14720/60000 (25%)]\tLoss: 7.807439\n",
      "Train Epoch: 1 [15360/60000 (26%)]\tLoss: 8.022367\n",
      "Train Epoch: 1 [16000/60000 (27%)]\tLoss: 7.865522\n",
      "Train Epoch: 1 [16640/60000 (28%)]\tLoss: 8.198849\n",
      "Train Epoch: 1 [17280/60000 (29%)]\tLoss: 7.572322\n",
      "Train Epoch: 1 [17920/60000 (30%)]\tLoss: 7.581176\n",
      "Train Epoch: 1 [18560/60000 (31%)]\tLoss: 7.560124\n",
      "Train Epoch: 1 [19200/60000 (32%)]\tLoss: 7.489433\n",
      "Train Epoch: 1 [19840/60000 (33%)]\tLoss: 7.785347\n",
      "Train Epoch: 1 [20480/60000 (34%)]\tLoss: 7.684290\n",
      "Train Epoch: 1 [21120/60000 (35%)]\tLoss: 7.270555\n",
      "Train Epoch: 1 [21760/60000 (36%)]\tLoss: 7.434606\n",
      "Train Epoch: 1 [22400/60000 (37%)]\tLoss: 7.090363\n",
      "Train Epoch: 1 [23040/60000 (38%)]\tLoss: 7.229938\n",
      "Train Epoch: 1 [23680/60000 (39%)]\tLoss: 7.230872\n",
      "Train Epoch: 1 [24320/60000 (41%)]\tLoss: 7.413353\n",
      "Train Epoch: 1 [24960/60000 (42%)]\tLoss: 7.715292\n",
      "Train Epoch: 1 [25600/60000 (43%)]\tLoss: 7.412200\n",
      "Train Epoch: 1 [26240/60000 (44%)]\tLoss: 7.327794\n",
      "Train Epoch: 1 [26880/60000 (45%)]\tLoss: 6.901133\n",
      "Train Epoch: 1 [27520/60000 (46%)]\tLoss: 7.457172\n",
      "Train Epoch: 1 [28160/60000 (47%)]\tLoss: 7.123801\n",
      "Train Epoch: 1 [28800/60000 (48%)]\tLoss: 7.186870\n",
      "Train Epoch: 1 [29440/60000 (49%)]\tLoss: 6.998477\n",
      "Train Epoch: 1 [30080/60000 (50%)]\tLoss: 6.995312\n",
      "Train Epoch: 1 [30720/60000 (51%)]\tLoss: 7.302195\n",
      "Train Epoch: 1 [31360/60000 (52%)]\tLoss: 7.004575\n",
      "Train Epoch: 1 [32000/60000 (53%)]\tLoss: 7.311735\n",
      "Train Epoch: 1 [32640/60000 (54%)]\tLoss: 7.107643\n",
      "Train Epoch: 1 [33280/60000 (55%)]\tLoss: 6.868853\n",
      "Train Epoch: 1 [33920/60000 (57%)]\tLoss: 6.938328\n",
      "Train Epoch: 1 [34560/60000 (58%)]\tLoss: 6.616324\n",
      "Train Epoch: 1 [35200/60000 (59%)]\tLoss: 7.031331\n",
      "Train Epoch: 1 [35840/60000 (60%)]\tLoss: 7.204173\n",
      "Train Epoch: 1 [36480/60000 (61%)]\tLoss: 7.050118\n",
      "Train Epoch: 1 [37120/60000 (62%)]\tLoss: 7.168095\n",
      "Train Epoch: 1 [37760/60000 (63%)]\tLoss: 7.172151\n",
      "Train Epoch: 1 [38400/60000 (64%)]\tLoss: 7.157337\n",
      "Train Epoch: 1 [39040/60000 (65%)]\tLoss: 7.017470\n",
      "Train Epoch: 1 [39680/60000 (66%)]\tLoss: 6.982788\n",
      "Train Epoch: 1 [40320/60000 (67%)]\tLoss: 7.141924\n",
      "Train Epoch: 1 [40960/60000 (68%)]\tLoss: 7.127433\n",
      "Train Epoch: 1 [41600/60000 (69%)]\tLoss: 6.773832\n",
      "Train Epoch: 1 [42240/60000 (70%)]\tLoss: 6.923282\n",
      "Train Epoch: 1 [42880/60000 (71%)]\tLoss: 6.982614\n",
      "Train Epoch: 1 [43520/60000 (72%)]\tLoss: 6.951303\n",
      "Train Epoch: 1 [44160/60000 (74%)]\tLoss: 6.953378\n",
      "Train Epoch: 1 [44800/60000 (75%)]\tLoss: 7.033705\n",
      "Train Epoch: 1 [45440/60000 (76%)]\tLoss: 6.737225\n",
      "Train Epoch: 1 [46080/60000 (77%)]\tLoss: 6.697680\n",
      "Train Epoch: 1 [46720/60000 (78%)]\tLoss: 6.810207\n",
      "Train Epoch: 1 [47360/60000 (79%)]\tLoss: 6.968555\n",
      "Train Epoch: 1 [48000/60000 (80%)]\tLoss: 6.795675\n",
      "Train Epoch: 1 [48640/60000 (81%)]\tLoss: 6.530000\n",
      "Train Epoch: 1 [49280/60000 (82%)]\tLoss: 6.952293\n",
      "Train Epoch: 1 [49920/60000 (83%)]\tLoss: 6.869812\n",
      "Train Epoch: 1 [50560/60000 (84%)]\tLoss: 6.810484\n",
      "Train Epoch: 1 [51200/60000 (85%)]\tLoss: 6.641318\n",
      "Train Epoch: 1 [51840/60000 (86%)]\tLoss: 6.943937\n",
      "Train Epoch: 1 [52480/60000 (87%)]\tLoss: 6.846377\n",
      "Train Epoch: 1 [53120/60000 (88%)]\tLoss: 6.496007\n",
      "Train Epoch: 1 [53760/60000 (90%)]\tLoss: 6.691855\n",
      "Train Epoch: 1 [54400/60000 (91%)]\tLoss: 6.382111\n",
      "Train Epoch: 1 [55040/60000 (92%)]\tLoss: 6.698438\n",
      "Train Epoch: 1 [55680/60000 (93%)]\tLoss: 6.790914\n",
      "Train Epoch: 1 [56320/60000 (94%)]\tLoss: 6.380579\n",
      "Train Epoch: 1 [56960/60000 (95%)]\tLoss: 6.594685\n",
      "Train Epoch: 1 [57600/60000 (96%)]\tLoss: 6.649340\n",
      "Train Epoch: 1 [58240/60000 (97%)]\tLoss: 6.729761\n",
      "Train Epoch: 1 [58880/60000 (98%)]\tLoss: 6.834385\n",
      "Train Epoch: 1 [59520/60000 (99%)]\tLoss: 6.715079\n"
     ]
    },
    {
     "ename": "AttributeError",
     "evalue": "'CapsuleNet' object has no attribute 'output_size'",
     "output_type": "error",
     "traceback": [
      "\u001b[0;31m---------------------------------------------------------------------------\u001b[0m",
      "\u001b[0;31mAttributeError\u001b[0m                            Traceback (most recent call last)",
      "\u001b[0;32m<ipython-input-4-b61d720594d7>\u001b[0m in \u001b[0;36m<module>\u001b[0;34m()\u001b[0m\n\u001b[1;32m      2\u001b[0m \u001b[0;32mfor\u001b[0m \u001b[0mepoch\u001b[0m \u001b[0;32min\u001b[0m \u001b[0mrange\u001b[0m\u001b[0;34m(\u001b[0m\u001b[0;36m1\u001b[0m\u001b[0;34m,\u001b[0m\u001b[0mepochs\u001b[0m\u001b[0;34m+\u001b[0m\u001b[0;36m1\u001b[0m\u001b[0;34m)\u001b[0m\u001b[0;34m:\u001b[0m\u001b[0;34m\u001b[0m\u001b[0m\n\u001b[1;32m      3\u001b[0m         \u001b[0mtrain_loss\u001b[0m \u001b[0;34m=\u001b[0m \u001b[0mtrain\u001b[0m\u001b[0;34m(\u001b[0m\u001b[0mmodel\u001b[0m\u001b[0;34m,\u001b[0m\u001b[0mdevice\u001b[0m\u001b[0;34m,\u001b[0m\u001b[0mtrain_loader\u001b[0m\u001b[0;34m,\u001b[0m\u001b[0moptimizer\u001b[0m\u001b[0;34m,\u001b[0m\u001b[0mepoch\u001b[0m\u001b[0;34m,\u001b[0m\u001b[0mlog_interval\u001b[0m\u001b[0;34m=\u001b[0m\u001b[0;36m10\u001b[0m\u001b[0;34m)\u001b[0m\u001b[0;34m\u001b[0m\u001b[0m\n\u001b[0;32m----> 4\u001b[0;31m         \u001b[0mtest_loss\u001b[0m \u001b[0;34m=\u001b[0m \u001b[0mtest\u001b[0m\u001b[0;34m(\u001b[0m\u001b[0mmodel\u001b[0m\u001b[0;34m,\u001b[0m\u001b[0mdevice\u001b[0m\u001b[0;34m,\u001b[0m\u001b[0mtest_loader\u001b[0m\u001b[0;34m)\u001b[0m\u001b[0;34m\u001b[0m\u001b[0m\n\u001b[0m",
      "\u001b[0;32m~/Dropbox/Python/Machine_Learning/CapsuleNetworks/utils.py\u001b[0m in \u001b[0;36mtest\u001b[0;34m(model, device, test_loader)\u001b[0m\n\u001b[1;32m     49\u001b[0m                         \u001b[0mdata\u001b[0m\u001b[0;34m,\u001b[0m\u001b[0mtarget\u001b[0m \u001b[0;34m=\u001b[0m \u001b[0mdata\u001b[0m\u001b[0;34m.\u001b[0m\u001b[0mto\u001b[0m\u001b[0;34m(\u001b[0m\u001b[0mdevice\u001b[0m\u001b[0;34m)\u001b[0m\u001b[0;34m,\u001b[0m\u001b[0mtarget\u001b[0m\u001b[0;34m.\u001b[0m\u001b[0mto\u001b[0m\u001b[0;34m(\u001b[0m\u001b[0mdevice\u001b[0m\u001b[0;34m)\u001b[0m\u001b[0;34m\u001b[0m\u001b[0m\n\u001b[1;32m     50\u001b[0m                         \u001b[0mdata\u001b[0m \u001b[0;34m=\u001b[0m \u001b[0mdata\u001b[0m\u001b[0;34m.\u001b[0m\u001b[0msqueeze\u001b[0m\u001b[0;34m(\u001b[0m\u001b[0;36m1\u001b[0m\u001b[0;34m)\u001b[0m\u001b[0;34m\u001b[0m\u001b[0m\n\u001b[0;32m---> 51\u001b[0;31m                         \u001b[0moutput\u001b[0m\u001b[0;34m,\u001b[0m\u001b[0mreconstruction\u001b[0m \u001b[0;34m=\u001b[0m \u001b[0mmodel\u001b[0m\u001b[0;34m(\u001b[0m\u001b[0mdata\u001b[0m\u001b[0;34m)\u001b[0m\u001b[0;34m\u001b[0m\u001b[0m\n\u001b[0m\u001b[1;32m     52\u001b[0m                         \u001b[0mtest_loss\u001b[0m \u001b[0;34m+=\u001b[0m \u001b[0mcapsule_loss\u001b[0m\u001b[0;34m(\u001b[0m\u001b[0mdata\u001b[0m\u001b[0;34m,\u001b[0m\u001b[0mtarget\u001b[0m\u001b[0;34m,\u001b[0m\u001b[0moutput\u001b[0m\u001b[0;34m,\u001b[0m\u001b[0mreconstruction\u001b[0m\u001b[0;34m)\u001b[0m\u001b[0;34m.\u001b[0m\u001b[0mitem\u001b[0m\u001b[0;34m(\u001b[0m\u001b[0;34m)\u001b[0m \u001b[0;31m# sum up batch loss\u001b[0m\u001b[0;34m\u001b[0m\u001b[0m\n\u001b[1;32m     53\u001b[0m                         \u001b[0mpred\u001b[0m \u001b[0;34m=\u001b[0m \u001b[0moutput\u001b[0m\u001b[0;34m.\u001b[0m\u001b[0mmax\u001b[0m\u001b[0;34m(\u001b[0m\u001b[0;36m1\u001b[0m\u001b[0;34m,\u001b[0m\u001b[0mkeepdim\u001b[0m\u001b[0;34m=\u001b[0m\u001b[0;32mTrue\u001b[0m\u001b[0;34m)\u001b[0m\u001b[0;34m[\u001b[0m\u001b[0;36m1\u001b[0m\u001b[0;34m]\u001b[0m \u001b[0;31m# get the index of the max log-probability\u001b[0m\u001b[0;34m\u001b[0m\u001b[0m\n",
      "\u001b[0;32m~/.local/lib/python3.6/site-packages/torch/nn/modules/module.py\u001b[0m in \u001b[0;36m__call__\u001b[0;34m(self, *input, **kwargs)\u001b[0m\n\u001b[1;32m    489\u001b[0m             \u001b[0mresult\u001b[0m \u001b[0;34m=\u001b[0m \u001b[0mself\u001b[0m\u001b[0;34m.\u001b[0m\u001b[0m_slow_forward\u001b[0m\u001b[0;34m(\u001b[0m\u001b[0;34m*\u001b[0m\u001b[0minput\u001b[0m\u001b[0;34m,\u001b[0m \u001b[0;34m**\u001b[0m\u001b[0mkwargs\u001b[0m\u001b[0;34m)\u001b[0m\u001b[0;34m\u001b[0m\u001b[0m\n\u001b[1;32m    490\u001b[0m         \u001b[0;32melse\u001b[0m\u001b[0;34m:\u001b[0m\u001b[0;34m\u001b[0m\u001b[0m\n\u001b[0;32m--> 491\u001b[0;31m             \u001b[0mresult\u001b[0m \u001b[0;34m=\u001b[0m \u001b[0mself\u001b[0m\u001b[0;34m.\u001b[0m\u001b[0mforward\u001b[0m\u001b[0;34m(\u001b[0m\u001b[0;34m*\u001b[0m\u001b[0minput\u001b[0m\u001b[0;34m,\u001b[0m \u001b[0;34m**\u001b[0m\u001b[0mkwargs\u001b[0m\u001b[0;34m)\u001b[0m\u001b[0;34m\u001b[0m\u001b[0m\n\u001b[0m\u001b[1;32m    492\u001b[0m         \u001b[0;32mfor\u001b[0m \u001b[0mhook\u001b[0m \u001b[0;32min\u001b[0m \u001b[0mself\u001b[0m\u001b[0;34m.\u001b[0m\u001b[0m_forward_hooks\u001b[0m\u001b[0;34m.\u001b[0m\u001b[0mvalues\u001b[0m\u001b[0;34m(\u001b[0m\u001b[0;34m)\u001b[0m\u001b[0;34m:\u001b[0m\u001b[0;34m\u001b[0m\u001b[0m\n\u001b[1;32m    493\u001b[0m             \u001b[0mhook_result\u001b[0m \u001b[0;34m=\u001b[0m \u001b[0mhook\u001b[0m\u001b[0;34m(\u001b[0m\u001b[0mself\u001b[0m\u001b[0;34m,\u001b[0m \u001b[0minput\u001b[0m\u001b[0;34m,\u001b[0m \u001b[0mresult\u001b[0m\u001b[0;34m)\u001b[0m\u001b[0;34m\u001b[0m\u001b[0m\n",
      "\u001b[0;32m~/Dropbox/Python/Machine_Learning/CapsuleNetworks/models.py\u001b[0m in \u001b[0;36mforward\u001b[0;34m(self, x, y)\u001b[0m\n\u001b[1;32m     34\u001b[0m                         \u001b[0;31m# get most active capsule\u001b[0m\u001b[0;34m\u001b[0m\u001b[0;34m\u001b[0m\u001b[0m\n\u001b[1;32m     35\u001b[0m                         \u001b[0m_\u001b[0m\u001b[0;34m,\u001b[0m\u001b[0mmax_index\u001b[0m \u001b[0;34m=\u001b[0m \u001b[0mout\u001b[0m\u001b[0;34m.\u001b[0m\u001b[0mmax\u001b[0m\u001b[0;34m(\u001b[0m\u001b[0mdim\u001b[0m\u001b[0;34m=\u001b[0m\u001b[0;36m1\u001b[0m\u001b[0;34m)\u001b[0m\u001b[0;34m\u001b[0m\u001b[0m\n\u001b[0;32m---> 36\u001b[0;31m                         \u001b[0my\u001b[0m \u001b[0;34m=\u001b[0m \u001b[0mVariable\u001b[0m\u001b[0;34m(\u001b[0m\u001b[0mtorch\u001b[0m\u001b[0;34m.\u001b[0m\u001b[0meye\u001b[0m\u001b[0;34m(\u001b[0m\u001b[0mself\u001b[0m\u001b[0;34m.\u001b[0m\u001b[0moutput_size\u001b[0m\u001b[0;34m)\u001b[0m\u001b[0;34m)\u001b[0m\u001b[0;34m.\u001b[0m\u001b[0mindex_select\u001b[0m\u001b[0;34m(\u001b[0m\u001b[0mdim\u001b[0m\u001b[0;34m=\u001b[0m\u001b[0;36m0\u001b[0m\u001b[0;34m,\u001b[0m\u001b[0mindex\u001b[0m\u001b[0;34m=\u001b[0m\u001b[0mmax_index\u001b[0m\u001b[0;34m.\u001b[0m\u001b[0mdata\u001b[0m\u001b[0;34m)\u001b[0m\u001b[0;34m\u001b[0m\u001b[0m\n\u001b[0m\u001b[1;32m     37\u001b[0m                 \u001b[0mrec\u001b[0m \u001b[0;34m=\u001b[0m \u001b[0mself\u001b[0m\u001b[0;34m.\u001b[0m\u001b[0mdecoder\u001b[0m\u001b[0;34m(\u001b[0m\u001b[0;34m(\u001b[0m\u001b[0mx\u001b[0m\u001b[0;34m*\u001b[0m\u001b[0my\u001b[0m\u001b[0;34m[\u001b[0m\u001b[0;34m:\u001b[0m\u001b[0;34m,\u001b[0m\u001b[0;34m:\u001b[0m\u001b[0;34m,\u001b[0m\u001b[0;32mNone\u001b[0m\u001b[0;34m]\u001b[0m\u001b[0;34m)\u001b[0m\u001b[0;34m.\u001b[0m\u001b[0mview\u001b[0m\u001b[0;34m(\u001b[0m\u001b[0mx\u001b[0m\u001b[0;34m.\u001b[0m\u001b[0msize\u001b[0m\u001b[0;34m(\u001b[0m\u001b[0;36m0\u001b[0m\u001b[0;34m)\u001b[0m\u001b[0;34m,\u001b[0m\u001b[0;34m-\u001b[0m\u001b[0;36m1\u001b[0m\u001b[0;34m)\u001b[0m\u001b[0;34m)\u001b[0m\u001b[0;34m\u001b[0m\u001b[0m\n\u001b[1;32m     38\u001b[0m                 \u001b[0;32mreturn\u001b[0m \u001b[0mout\u001b[0m\u001b[0;34m,\u001b[0m\u001b[0mrec\u001b[0m\u001b[0;34m\u001b[0m\u001b[0m\n",
      "\u001b[0;32m~/.local/lib/python3.6/site-packages/torch/nn/modules/module.py\u001b[0m in \u001b[0;36m__getattr__\u001b[0;34m(self, name)\u001b[0m\n\u001b[1;32m    530\u001b[0m                 \u001b[0;32mreturn\u001b[0m \u001b[0mmodules\u001b[0m\u001b[0;34m[\u001b[0m\u001b[0mname\u001b[0m\u001b[0;34m]\u001b[0m\u001b[0;34m\u001b[0m\u001b[0m\n\u001b[1;32m    531\u001b[0m         raise AttributeError(\"'{}' object has no attribute '{}'\".format(\n\u001b[0;32m--> 532\u001b[0;31m             type(self).__name__, name))\n\u001b[0m\u001b[1;32m    533\u001b[0m \u001b[0;34m\u001b[0m\u001b[0m\n\u001b[1;32m    534\u001b[0m     \u001b[0;32mdef\u001b[0m \u001b[0m__setattr__\u001b[0m\u001b[0;34m(\u001b[0m\u001b[0mself\u001b[0m\u001b[0;34m,\u001b[0m \u001b[0mname\u001b[0m\u001b[0;34m,\u001b[0m \u001b[0mvalue\u001b[0m\u001b[0;34m)\u001b[0m\u001b[0;34m:\u001b[0m\u001b[0;34m\u001b[0m\u001b[0m\n",
      "\u001b[0;31mAttributeError\u001b[0m: 'CapsuleNet' object has no attribute 'output_size'"
     ]
    }
   ],
   "source": [
    "epochs = 30\n",
    "for epoch in range(1,epochs+1):\n",
    "        train_loss = train(model,device,train_loader,optimizer,epoch,log_interval=10)\n",
    "        test_loss = test(model,device,test_loader)"
   ]
  },
  {
   "cell_type": "code",
   "execution_count": null,
   "metadata": {},
   "outputs": [],
   "source": [
    "torch.save(model.state_dict(),\"./Saved_models/CapsuleNetwork.pt\")"
   ]
  }
 ],
 "metadata": {
  "kernelspec": {
   "display_name": "Python 3",
   "language": "python",
   "name": "python3"
  },
  "language_info": {
   "codemirror_mode": {
    "name": "ipython",
    "version": 3
   },
   "file_extension": ".py",
   "mimetype": "text/x-python",
   "name": "python",
   "nbconvert_exporter": "python",
   "pygments_lexer": "ipython3",
   "version": "3.6.5"
  }
 },
 "nbformat": 4,
 "nbformat_minor": 2
}
